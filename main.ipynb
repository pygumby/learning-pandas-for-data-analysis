{
 "cells": [
  {
   "cell_type": "markdown",
   "metadata": {},
   "source": [
    "# Learning Pandas for Data Analysis? Start Here. "
   ]
  },
  {
   "cell_type": "markdown",
   "metadata": {},
   "source": [
    "## Importing Pandas"
   ]
  },
  {
   "cell_type": "code",
   "execution_count": null,
   "metadata": {},
   "outputs": [],
   "source": [
    "import pandas as pd\n",
    "import sys\n",
    "\n",
    "print(sys.version)\n",
    "print(f\"Pandas version: {pd.__version__}\")"
   ]
  },
  {
   "cell_type": "markdown",
   "metadata": {},
   "source": [
    "## I/O (Reading and Writing)"
   ]
  },
  {
   "cell_type": "code",
   "execution_count": null,
   "metadata": {},
   "outputs": [],
   "source": [
    "df = pd.read_parquet(\"flights.parquet\")\n",
    "type(df)"
   ]
  },
  {
   "cell_type": "code",
   "execution_count": null,
   "metadata": {},
   "outputs": [],
   "source": [
    "# df.to_csv(\"flights.csv\", index=False)"
   ]
  },
  {
   "cell_type": "markdown",
   "metadata": {},
   "source": [
    "## DataFrame Basics"
   ]
  },
  {
   "cell_type": "code",
   "execution_count": null,
   "metadata": {},
   "outputs": [],
   "source": [
    "# df.head(3) # First three rows of `df`\n",
    "# df.tail(3) # Last three rows of `df`\n",
    "# df.sample(3) # Three random rows of `df`\n",
    "df.sample(frac=0.000001) # A random rows of `df` amounting to a fraction of total rows"
   ]
  },
  {
   "cell_type": "code",
   "execution_count": null,
   "metadata": {},
   "outputs": [],
   "source": [
    "df.columns # Columns of `df`"
   ]
  },
  {
   "cell_type": "code",
   "execution_count": null,
   "metadata": {},
   "outputs": [],
   "source": [
    "df.index # Index (== row labels!) of `df`"
   ]
  },
  {
   "cell_type": "markdown",
   "metadata": {},
   "source": [
    "## DataFrame Summary"
   ]
  },
  {
   "cell_type": "code",
   "execution_count": null,
   "metadata": {},
   "outputs": [],
   "source": [
    "df.info() # Summary of `df`"
   ]
  },
  {
   "cell_type": "code",
   "execution_count": null,
   "metadata": {},
   "outputs": [],
   "source": [
    "df.info(verbose=False) # Summary of `df`, shortened"
   ]
  },
  {
   "cell_type": "code",
   "execution_count": null,
   "metadata": {},
   "outputs": [],
   "source": [
    "df.describe() # Descriptive statistics on `df`, by default only on numeric columns"
   ]
  },
  {
   "cell_type": "code",
   "execution_count": null,
   "metadata": {},
   "outputs": [],
   "source": [
    "df[[\"Airline\"]].describe() # Descriptive statistics, on a string column of `df`"
   ]
  },
  {
   "cell_type": "code",
   "execution_count": null,
   "metadata": {},
   "outputs": [],
   "source": [
    "df.shape # Dimensionality of `df`"
   ]
  },
  {
   "cell_type": "code",
   "execution_count": null,
   "metadata": {},
   "outputs": [],
   "source": [
    "len(df) # Number of rows of `df`"
   ]
  },
  {
   "cell_type": "markdown",
   "metadata": {},
   "source": [
    "## Subsetting a DataFrame"
   ]
  },
  {
   "cell_type": "code",
   "execution_count": null,
   "metadata": {},
   "outputs": [],
   "source": [
    "# Subsetting columns\n",
    "# df[[\"FlightDate\", \"Airline\", \"Origin\"]]\n",
    "# df[df.columns[:5]] # First five columns\n",
    "# df[df.columns[-5:]] # Last five columns\n",
    "df[[c for c in df.columns if \"Time\" in c]] # Columns containing \"Time\""
   ]
  },
  {
   "cell_type": "code",
   "execution_count": null,
   "metadata": {},
   "outputs": [],
   "source": [
    "# Selecting columns by `dtype`\n",
    "df.select_dtypes('int') # Columns of type `int`"
   ]
  },
  {
   "cell_type": "code",
   "execution_count": null,
   "metadata": {},
   "outputs": [],
   "source": [
    "# Selecting Series vs. DataFrame\n",
    "# type(df[\"Airline\"]) # `pandas.core.series.Series`\n",
    "type(df[[\"Airline\"]]) # `pandas.core.frame.DataFrame`"
   ]
  },
  {
   "cell_type": "markdown",
   "metadata": {},
   "source": [
    "## Filtering Rows"
   ]
  },
  {
   "cell_type": "code",
   "execution_count": null,
   "metadata": {},
   "outputs": [],
   "source": [
    "# `iloc` is integer-location based\n",
    "# df.iloc[1, 3] # 'IAH'\n",
    "# df.iloc[:5, :5] # First five rows and columns\n",
    "# df.iloc[5] # Single row, as Series\n",
    "# df.iloc[[5]] # Single row, as DataFrame\n",
    "# df.iloc[:, 1] # Single column, as Series\n",
    "# df.iloc[:, [1]] # Single column, as DataFrame\n",
    "df.iloc[:, [1, 2]] # Two columns, as DataFrame\n"
   ]
  },
  {
   "cell_type": "code",
   "execution_count": null,
   "metadata": {},
   "outputs": [],
   "source": [
    "# `loc` is label based\n",
    "# df.loc[:, [\"Airline\", \"Origin\"]] # Same two columns as above\n",
    "# df[\"Airline\"] == \"Republic Airlines\" # Columns of Boolean values, as Series\n",
    "# df.loc[(df[\"Airline\"] == \"Republic Airlines\") # Filtered, as DataFrame\n",
    "#         & (df[\"FlightDate\"] == \"2022-04-02\")]\n",
    "df.loc[~((df[\"Airline\"] == \"Republic Airlines\") # Inversely filtered, as DataFrame\n",
    "         & (df[\"FlightDate\"] == \"2022-04-02\"))]"
   ]
  },
  {
   "cell_type": "markdown",
   "metadata": {},
   "source": [
    "## Filtering using Query"
   ]
  },
  {
   "cell_type": "code",
   "execution_count": null,
   "metadata": {},
   "outputs": [],
   "source": [
    "# `query` uses strings\n",
    "# df.query(\"DepTime > 1130\")\n",
    "# df.query(\"(DepTime > 1130) and (Origin == 'DRO')\") # String literal\n",
    "min_time = 1130\n",
    "df.query(\"(DepTime > @min_time) and (Origin == 'DRO')\") # Variable"
   ]
  },
  {
   "cell_type": "markdown",
   "metadata": {},
   "source": [
    "## Summarizing Data"
   ]
  },
  {
   "cell_type": "code",
   "execution_count": null,
   "metadata": {},
   "outputs": [],
   "source": [
    "# df[\"DepTime\"].mean()\n",
    "# df[\"DepTime\"].min()\n",
    "# df[\"DepTime\"].std()\n",
    "# df[\"DepTime\"].var()\n",
    "# df[\"DepTime\"].count()\n",
    "# df[\"DepTime\"].sum()\n",
    "# df[\"DepTime\"].quantile(0.5)\n",
    "# df[\"DepTime\"].quantile([0.25, 0.75])\n",
    "type(df[[\"DepTime\", \"DepDelay\", \"ArrTime\", \"ArrDelay\"]].mean())"
   ]
  },
  {
   "cell_type": "code",
   "execution_count": null,
   "metadata": {},
   "outputs": [],
   "source": [
    "# Multiple statistics on columns\n",
    "# df[[\"DepTime\", \"DepDelay\", \"ArrTime\", \"ArrDelay\"]].agg([\"mean\", \"min\", \"max\"])\n",
    "df[[\"DepTime\", \"DepDelay\", \"ArrTime\", \"ArrDelay\"]].agg({\n",
    "    \"DepTime\": [\"min\", \"max\"],\n",
    "    \"DepDelay\": [\"mean\"],\n",
    "    \"ArrTime\": [\"min\", \"max\"]\n",
    "})"
   ]
  },
  {
   "cell_type": "markdown",
   "metadata": {},
   "source": [
    "## Summarizing Categorical Data"
   ]
  },
  {
   "cell_type": "code",
   "execution_count": null,
   "metadata": {},
   "outputs": [],
   "source": [
    "# df[\"Airline\"].unique() # Unique values\n",
    "# df[\"Airline\"].nunique() # Number of unique values\n",
    "# df[\"Airline\"].value_counts() # Absolute frequency of values\n",
    "# df[\"Airline\"].value_counts(normalize=True) # Relative frequency of values\n",
    "# df[[\"Airline\", \"Origin\"]].value_counts() # Absolute frequency of values (multi-index)\n",
    "df[[\"Airline\", \"Origin\"]].value_counts().reset_index() # Absolute frequency of values"
   ]
  },
  {
   "cell_type": "markdown",
   "metadata": {},
   "source": [
    "## Advanced column methods"
   ]
  },
  {
   "cell_type": "code",
   "execution_count": null,
   "metadata": {},
   "outputs": [],
   "source": [
    "# df[[\"CRSDepTime\"]].rank() # Data ranks\n",
    "# df[[\"CRSDepTime\"]].rank(method=\"dense\") # Breaks ties via lowest rank but inc's by 1\n",
    "# df[[\"CRSDepTime\"]].rank(method=\"first\") # Breaks ties via order of appearance\n",
    "# df[[\"CRSDepTime\"]].shift(1) # Shifts columns, creates empty values\n",
    "# df[[\"CRSDepTime\"]].shift(1, fill_value=0) # Shifts columns, creates fill values\n",
    "# df[[\"CRSDepTime\"]].cumsum() # Cumulative sum\n",
    "# df[[\"CRSDepTime\"]].cummin() # Cumulative minimum\n",
    "df[[\"CRSDepTime\"]].cummax() # Cumulative minimum"
   ]
  },
  {
   "cell_type": "markdown",
   "metadata": {},
   "source": [
    "## Rolling Methods"
   ]
  },
  {
   "cell_type": "code",
   "execution_count": null,
   "metadata": {},
   "outputs": [],
   "source": [
    "df[[\"DepDelayMinutes\"]].rolling(window=5).mean() # Mean of a rolling window of 5\n"
   ]
  },
  {
   "cell_type": "markdown",
   "metadata": {},
   "source": [
    "## Clip"
   ]
  },
  {
   "cell_type": "code",
   "execution_count": null,
   "metadata": {},
   "outputs": [],
   "source": [
    "df[[\"DepTime\"]].clip(1000, 2000) # Clip all values to min. 1000 and and max. 2000"
   ]
  },
  {
   "cell_type": "markdown",
   "metadata": {},
   "source": [
    "## Groupby Methods"
   ]
  },
  {
   "cell_type": "code",
   "execution_count": null,
   "metadata": {},
   "outputs": [],
   "source": [
    "# df.groupby(\"Airline\")[[\"DepDelay\"]].mean() # Group by airline, compute avgerage delay\n",
    "# df.groupby(\"Airline\")[[\"DepDelay\"]].agg([\"mean\", \"min\", \"max\"]) # Multiple statistics\n",
    "df.groupby(\"Airline\")[[\"DepDelay\", \"ArrDelay\"]].agg([\"mean\", \"min\", \"max\"]) # Multi idx"
   ]
  },
  {
   "cell_type": "markdown",
   "metadata": {},
   "source": [
    "## New Columns"
   ]
  },
  {
   "cell_type": "code",
   "execution_count": null,
   "metadata": {},
   "outputs": [],
   "source": [
    "# df[\"DepTime2\"] = df[\"DepTime\"] / 60 # New column\n",
    "df = df.assign(DepTime3 = df['DepTime'] / 60) # `assign` returns a new DataFrame"
   ]
  },
  {
   "cell_type": "markdown",
   "metadata": {},
   "source": [
    "## Sorting data"
   ]
  },
  {
   "cell_type": "code",
   "execution_count": null,
   "metadata": {},
   "outputs": [],
   "source": [
    "# df.sort_values(\"ArrDelay\") # Sort by column, ascending\n",
    "# df.sort_values(\"ArrDelay\", ascending=False) # Sort by column, descending\n",
    "# df.sort_values(\"ArrDelay\", ascending=False).reset_index(drop=True) # Reset index\n",
    "df.sort_index() # Sort index, if numeric"
   ]
  },
  {
   "cell_type": "markdown",
   "metadata": {},
   "source": [
    "## Handling Missing Data"
   ]
  },
  {
   "cell_type": "code",
   "execution_count": null,
   "metadata": {},
   "outputs": [],
   "source": [
    "# df[[\"FlightDate\", \"Airline\", \"ArrDelay\"]].isna().sum() # Count of missing values\n",
    "# df[[\"FlightDate\", \"Airline\", \"ArrDelay\"]].dropna() # Drop rows with missing values\n",
    "# df[[\"FlightDate\", \"Airline\", \"ArrDelay\"]].dropna(subset=[\"ArrDelay\"]) # Limit columns\n",
    "# df[[\"FlightDate\", \"Airline\", \"ArrDelay\"]].fillna(0) # Replace missing values with 0\n",
    "df['ArrDelay'].fillna(df[\"ArrDelay\"].mean()) # Replace missing values with mean"
   ]
  },
  {
   "cell_type": "markdown",
   "metadata": {},
   "source": [
    "# Combining Data"
   ]
  },
  {
   "cell_type": "code",
   "execution_count": null,
   "metadata": {},
   "outputs": [],
   "source": [
    "df1 = df.query(\"Airline == 'Southwest Airlines Co.'\").copy() # Create new data sets\n",
    "df2 = df.query(\"Airline == 'Delta Air Lines Inc.'\").copy()"
   ]
  },
  {
   "cell_type": "code",
   "execution_count": null,
   "metadata": {},
   "outputs": [],
   "source": [
    "df_stack = pd.concat([df1, df2]) # Concat the DataFrames on top of each other"
   ]
  },
  {
   "cell_type": "code",
   "execution_count": null,
   "metadata": {},
   "outputs": [],
   "source": [
    "# pd.concat([df1, df2], axis=1) # Concat based on indices (fails, not unique)\n",
    "\n",
    "df1 = df1.reset_index(drop=True)\n",
    "df2 = df2.reset_index(drop=True)\n",
    "\n",
    "df_side = pd.concat([df1, df2], axis=1) # Concat based on indices (works)"
   ]
  },
  {
   "cell_type": "code",
   "execution_count": null,
   "metadata": {},
   "outputs": [],
   "source": [
    "df1.shape, df2.shape, df_stack.shape, df_side.shape"
   ]
  },
  {
   "cell_type": "code",
   "execution_count": null,
   "metadata": {},
   "outputs": [],
   "source": [
    "df_side[[\"FlightDate\"]] # Beware of `concat` with `axis=1`: mutiple col's with same name"
   ]
  },
  {
   "cell_type": "markdown",
   "metadata": {},
   "source": [
    "## Merge Data"
   ]
  },
  {
   "cell_type": "code",
   "execution_count": null,
   "metadata": {},
   "outputs": [],
   "source": [
    "df1 = df.groupby([\"Airline\", \"FlightDate\"])[[\"DepDelay\"]].mean().reset_index()\n",
    "df2 = df.groupby([\"Airline\", \"FlightDate\"])[[\"ArrDelay\"]].mean().reset_index()\n",
    "\n",
    "# df1.merge(df2) # Combine data sets on similar columns\n",
    "pd.merge(df1, df2, on=[\"Airline\", \"FlightDate\"]) # Both `merge` methods have `on`"
   ]
  },
  {
   "cell_type": "code",
   "execution_count": null,
   "metadata": {},
   "outputs": [],
   "source": [
    "# pd.merge(df1, df2, on=[\"Airline\"]) # In case of ambiguity, columns suffixed\n",
    "pd.merge(df1, df2, on=[\"Airline\"], suffixes=(\"_dep\", \"_arr\")) # Custom suffixes"
   ]
  },
  {
   "cell_type": "code",
   "execution_count": null,
   "metadata": {},
   "outputs": [],
   "source": [
    "pd.merge(df1, df2, left_on=[\"Airline\"], right_on=[\"Airline\"]) # Diff. sets can be merged"
   ]
  }
 ],
 "metadata": {
  "kernelspec": {
   "display_name": "Python 3",
   "language": "python",
   "name": "python3"
  },
  "language_info": {
   "codemirror_mode": {
    "name": "ipython",
    "version": 3
   },
   "file_extension": ".py",
   "mimetype": "text/x-python",
   "name": "python",
   "nbconvert_exporter": "python",
   "pygments_lexer": "ipython3",
   "version": "3.13.1"
  }
 },
 "nbformat": 4,
 "nbformat_minor": 2
}
